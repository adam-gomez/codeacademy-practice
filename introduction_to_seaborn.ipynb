{
 "cells": [
  {
   "cell_type": "markdown",
   "metadata": {},
   "source": [
    "# Introduction to Seaborn\n",
    "\n",
    "Seaborn is a Python data visualization library that provides simple code to create elegant visualizations for statistical exploration and insight. "
   ]
  },
  {
   "cell_type": "code",
   "execution_count": 8,
   "metadata": {},
   "outputs": [],
   "source": [
    "import warnings\n",
    "warnings.filterwarnings('ignore')\n",
    "import pandas as pd\n",
    "from matplotlib import pyplot as plt\n",
    "import seaborn as sns\n",
    "import numpy as np"
   ]
  },
  {
   "cell_type": "code",
   "execution_count": 2,
   "metadata": {},
   "outputs": [],
   "source": [
    "survey = {'Patient ID': [3951, 889, 2115, 3314, 5407, 2107, 3881, 3967, 8088, 2986, 4302, 2242, 1329, 6715, 6774, 9025, 874, 5998, 3385, 6675, 1672, 7298, 2119, 1870, 7540, 8930, 4462, 808, 4456, 217, 579, 4939, 956, 8921, 3505, 4490, 2288, 4713, 2767, 5158, 1163, 9790, 5654, 4169, 2434, 3156, 3035, 4699, 5126, 4727, 7305, 2126, 7328, 1325, 4094, 3677, 5217, 4866, 610, 4653, 8247, 2644, 4613, 1594, 5678, 9663, 86, 5694, 924, 9373, 6822, 1490, 6498, 128, 2360, 6633, 8337, 6878, 8721, 1479], 'Gender': ['Female', 'Male', 'Female', 'Female', 'Male', 'Male', 'Male', 'Male', 'Female', 'Male', 'Female', 'Male', 'Male', 'Female', 'Female', 'Female', 'Female', 'Female', 'Male', 'Male', 'Male', 'Male', 'Female', 'Male', 'Make', 'Female', 'Female', 'Male', 'Female', 'Female', 'Male', 'Male', 'Male', 'Male', 'Female', 'Female', 'Male', 'Male', 'Male', 'Male', 'Female', 'Female', 'Male', 'Female', 'Male', 'Male', 'Male', 'Female', 'Female', 'Male', 'Male', 'Male', 'Male', 'Female', 'Male', 'Female', 'Female', 'Female', 'Male', 'Male', 'Male', 'Male', 'Male', 'Male', 'Female', 'Male', 'Male', 'Female', 'Male', 'Female', 'Male', 'Female', 'Male', 'Male', 'Female', 'Female', 'Male', 'Female', 'Female', 'Female'], 'Age Range': ['18 - 25', '18 - 25', '18 - 25', '18 - 25', '18 - 25', '18 - 25', '18 - 25', '18 - 25', '18 - 25', '18 - 25', '18 - 25', '18 - 25', '18 - 25', '18 - 25', '18 - 25', '18 - 25', '18 - 25', '18 - 25', '18 - 25', '18 - 25', '25 - 35', '25 - 35', '25 - 35', '25 - 35', '25 - 35', '25 - 35', '25 - 35', '25 - 35', '25 - 35', '25 - 35', '25 - 35', '25 - 35', '25 - 35', '25 - 35', '25 - 35', '25 - 35', '25 - 35', '25 - 35', '25 - 35', '25 - 35', '35 - 45', '35 - 45', '35 - 45', '35 - 45', '35 - 45', '35 - 45', '35 - 45', '35 - 45', '35 - 45', '35 - 45', '35 - 45', '35 - 45', '35 - 45', '35 - 45', '35 - 45', '35 - 45', '35 - 45', '35 - 45', '35 - 45', '35 - 45', '45+', '45+', '45+', '45+', '45+', '45+', '45+', '45+', '45+', '45+', '45+', '45+', '45+', '45+', '45+', '45+', '45+', '45+', '45+', '45+'], 'Response': [3, 5, 4, 2, 6, 3, 3, 8, 1, 3, 4, 4, 6, 7, 3, 6, 0, 3, 1, 3, 9, 4, 6, 2, 3, 9, 6, 3, 6, 8, 5, 6, 6, 3, 1, 11, 2, 2, 5, 6, 5, 7, 8, 9, 7, 4, 5, 4, 5, 5, 5, 8, 10, 7, 7, 6, 9, 6, 2, 3, 9, 8, 6, 8, 9, 9, 4, 6, 4, 5, 11, 7, 4, 7, 5, 9, 9, 9, 7, 11]}"
   ]
  },
  {
   "cell_type": "code",
   "execution_count": 3,
   "metadata": {},
   "outputs": [],
   "source": [
    "df = pd.DataFrame(survey)"
   ]
  },
  {
   "cell_type": "code",
   "execution_count": 4,
   "metadata": {},
   "outputs": [
    {
     "data": {
      "text/html": [
       "<div>\n",
       "<style scoped>\n",
       "    .dataframe tbody tr th:only-of-type {\n",
       "        vertical-align: middle;\n",
       "    }\n",
       "\n",
       "    .dataframe tbody tr th {\n",
       "        vertical-align: top;\n",
       "    }\n",
       "\n",
       "    .dataframe thead th {\n",
       "        text-align: right;\n",
       "    }\n",
       "</style>\n",
       "<table border=\"1\" class=\"dataframe\">\n",
       "  <thead>\n",
       "    <tr style=\"text-align: right;\">\n",
       "      <th></th>\n",
       "      <th>Patient ID</th>\n",
       "      <th>Gender</th>\n",
       "      <th>Age Range</th>\n",
       "      <th>Response</th>\n",
       "    </tr>\n",
       "  </thead>\n",
       "  <tbody>\n",
       "    <tr>\n",
       "      <th>0</th>\n",
       "      <td>3951</td>\n",
       "      <td>Female</td>\n",
       "      <td>18 - 25</td>\n",
       "      <td>3</td>\n",
       "    </tr>\n",
       "    <tr>\n",
       "      <th>1</th>\n",
       "      <td>889</td>\n",
       "      <td>Male</td>\n",
       "      <td>18 - 25</td>\n",
       "      <td>5</td>\n",
       "    </tr>\n",
       "    <tr>\n",
       "      <th>2</th>\n",
       "      <td>2115</td>\n",
       "      <td>Female</td>\n",
       "      <td>18 - 25</td>\n",
       "      <td>4</td>\n",
       "    </tr>\n",
       "    <tr>\n",
       "      <th>3</th>\n",
       "      <td>3314</td>\n",
       "      <td>Female</td>\n",
       "      <td>18 - 25</td>\n",
       "      <td>2</td>\n",
       "    </tr>\n",
       "    <tr>\n",
       "      <th>4</th>\n",
       "      <td>5407</td>\n",
       "      <td>Male</td>\n",
       "      <td>18 - 25</td>\n",
       "      <td>6</td>\n",
       "    </tr>\n",
       "  </tbody>\n",
       "</table>\n",
       "</div>"
      ],
      "text/plain": [
       "   Patient ID  Gender Age Range  Response\n",
       "0        3951  Female   18 - 25         3\n",
       "1         889    Male   18 - 25         5\n",
       "2        2115  Female   18 - 25         4\n",
       "3        3314  Female   18 - 25         2\n",
       "4        5407    Male   18 - 25         6"
      ]
     },
     "execution_count": 4,
     "metadata": {},
     "output_type": "execute_result"
    }
   ],
   "source": [
    "df.head()"
   ]
  },
  {
   "cell_type": "markdown",
   "metadata": {},
   "source": [
    "## Matplotlib Bar Code vs. Seaborn Bar Code"
   ]
  },
  {
   "cell_type": "markdown",
   "metadata": {},
   "source": [
    "Suppose we are analyzing data from a survey: we asked 1,000 patients at a hospital how satisfied they were with their experience. Their response was measured on a scale of 1 - 10, with 1 being extremely unsatisfied, and 10 being extremely satisfied. We have summarized that data in a dictionary called results."
   ]
  },
  {
   "cell_type": "code",
   "execution_count": 5,
   "metadata": {},
   "outputs": [
    {
     "data": {
      "text/html": [
       "<div>\n",
       "<style scoped>\n",
       "    .dataframe tbody tr th:only-of-type {\n",
       "        vertical-align: middle;\n",
       "    }\n",
       "\n",
       "    .dataframe tbody tr th {\n",
       "        vertical-align: top;\n",
       "    }\n",
       "\n",
       "    .dataframe thead th {\n",
       "        text-align: right;\n",
       "    }\n",
       "</style>\n",
       "<table border=\"1\" class=\"dataframe\">\n",
       "  <thead>\n",
       "    <tr style=\"text-align: right;\">\n",
       "      <th></th>\n",
       "      <th>Gender</th>\n",
       "      <th>Mean Satisfaction</th>\n",
       "    </tr>\n",
       "  </thead>\n",
       "  <tbody>\n",
       "    <tr>\n",
       "      <th>0</th>\n",
       "      <td>Male</td>\n",
       "      <td>7.2</td>\n",
       "    </tr>\n",
       "    <tr>\n",
       "      <th>1</th>\n",
       "      <td>Female</td>\n",
       "      <td>8.1</td>\n",
       "    </tr>\n",
       "    <tr>\n",
       "      <th>2</th>\n",
       "      <td>Non-Binary</td>\n",
       "      <td>6.8</td>\n",
       "    </tr>\n",
       "  </tbody>\n",
       "</table>\n",
       "</div>"
      ],
      "text/plain": [
       "       Gender  Mean Satisfaction\n",
       "0        Male                7.2\n",
       "1      Female                8.1\n",
       "2  Non-Binary                6.8"
      ]
     },
     "execution_count": 5,
     "metadata": {},
     "output_type": "execute_result"
    }
   ],
   "source": [
    "results = {'Gender': ['Male', 'Female', 'Non-Binary'], 'Mean Satisfaction': [7.2, 8.1, 6.8]}\n",
    "df_results = pd.DataFrame(results)\n",
    "df_results"
   ]
  },
  {
   "cell_type": "markdown",
   "metadata": {},
   "source": [
    "To plot this data using Matplotlib, you would write the following:"
   ]
  },
  {
   "cell_type": "code",
   "execution_count": 6,
   "metadata": {},
   "outputs": [
    {
     "data": {
      "image/png": "[encoded data removed]",
      "text/plain": [
       "<Figure size 432x288 with 1 Axes>"
      ]
     },
     "metadata": {
      "needs_background": "light"
     },
     "output_type": "display_data"
    }
   ],
   "source": [
    "ax = plt.subplot()\n",
    "plt.bar(range(len(df_results)),\n",
    "        df_results[\"Mean Satisfaction\"])\n",
    "ax.set_xticks(range(len(df_results)))\n",
    "ax.set_xticklabels(df_results.Gender)\n",
    "plt.xlabel(\"Gender\")\n",
    "plt.ylabel(\"Mean Satisfaction\")\n",
    "plt.show()"
   ]
  },
  {
   "cell_type": "markdown",
   "metadata": {},
   "source": [
    "With Seaborn, you can use the sns.barplot() command to do the same thing with fewer lines of code."
   ]
  },
  {
   "cell_type": "code",
   "execution_count": 7,
   "metadata": {},
   "outputs": [
    {
     "data": {
      "image/png": "[encoded data removed]",
      "text/plain": [
       "<Figure size 432x288 with 1 Axes>"
      ]
     },
     "metadata": {
      "needs_background": "light"
     },
     "output_type": "display_data"
    }
   ],
   "source": [
    "sns.barplot(data= df_results, x= 'Gender', y= 'Mean Satisfaction')\n",
    "plt.show()"
   ]
  },
  {
   "cell_type": "markdown",
   "metadata": {},
   "source": [
    "## Aggregating Data"
   ]
  },
  {
   "cell_type": "markdown",
   "metadata": {},
   "source": [
    "Suppose we have a grade book with columns student, assignment_name, and grade, as shown below."
   ]
  },
  {
   "cell_type": "code",
   "execution_count": 10,
   "metadata": {},
   "outputs": [
    {
     "data": {
      "text/html": [
       "<div>\n",
       "<style scoped>\n",
       "    .dataframe tbody tr th:only-of-type {\n",
       "        vertical-align: middle;\n",
       "    }\n",
       "\n",
       "    .dataframe tbody tr th {\n",
       "        vertical-align: top;\n",
       "    }\n",
       "\n",
       "    .dataframe thead th {\n",
       "        text-align: right;\n",
       "    }\n",
       "</style>\n",
       "<table border=\"1\" class=\"dataframe\">\n",
       "  <thead>\n",
       "    <tr style=\"text-align: right;\">\n",
       "      <th></th>\n",
       "      <th>student</th>\n",
       "      <th>assignment_name</th>\n",
       "      <th>grade</th>\n",
       "    </tr>\n",
       "  </thead>\n",
       "  <tbody>\n",
       "    <tr>\n",
       "      <th>0</th>\n",
       "      <td>Amy</td>\n",
       "      <td>Assignment 1</td>\n",
       "      <td>75</td>\n",
       "    </tr>\n",
       "    <tr>\n",
       "      <th>1</th>\n",
       "      <td>Amy</td>\n",
       "      <td>Assignment 2</td>\n",
       "      <td>82</td>\n",
       "    </tr>\n",
       "    <tr>\n",
       "      <th>2</th>\n",
       "      <td>Bob</td>\n",
       "      <td>Assignment 1</td>\n",
       "      <td>99</td>\n",
       "    </tr>\n",
       "    <tr>\n",
       "      <th>3</th>\n",
       "      <td>Bob</td>\n",
       "      <td>Assignment 2</td>\n",
       "      <td>90</td>\n",
       "    </tr>\n",
       "    <tr>\n",
       "      <th>4</th>\n",
       "      <td>Chris</td>\n",
       "      <td>Assignment 1</td>\n",
       "      <td>72</td>\n",
       "    </tr>\n",
       "    <tr>\n",
       "      <th>5</th>\n",
       "      <td>Chris</td>\n",
       "      <td>Assignment 2</td>\n",
       "      <td>66</td>\n",
       "    </tr>\n",
       "    <tr>\n",
       "      <th>6</th>\n",
       "      <td>Dan</td>\n",
       "      <td>Assignment 1</td>\n",
       "      <td>88</td>\n",
       "    </tr>\n",
       "    <tr>\n",
       "      <th>7</th>\n",
       "      <td>Dan</td>\n",
       "      <td>Assignment 2</td>\n",
       "      <td>82</td>\n",
       "    </tr>\n",
       "    <tr>\n",
       "      <th>8</th>\n",
       "      <td>Ellie</td>\n",
       "      <td>Assignment 1</td>\n",
       "      <td>91</td>\n",
       "    </tr>\n",
       "    <tr>\n",
       "      <th>9</th>\n",
       "      <td>Ellie</td>\n",
       "      <td>Assignment 2</td>\n",
       "      <td>85</td>\n",
       "    </tr>\n",
       "  </tbody>\n",
       "</table>\n",
       "</div>"
      ],
      "text/plain": [
       "  student assignment_name  grade\n",
       "0     Amy    Assignment 1     75\n",
       "1     Amy    Assignment 2     82\n",
       "2     Bob    Assignment 1     99\n",
       "3     Bob    Assignment 2     90\n",
       "4   Chris    Assignment 1     72\n",
       "5   Chris    Assignment 2     66\n",
       "6     Dan    Assignment 1     88\n",
       "7     Dan    Assignment 2     82\n",
       "8   Ellie    Assignment 1     91\n",
       "9   Ellie    Assignment 2     85"
      ]
     },
     "execution_count": 10,
     "metadata": {},
     "output_type": "execute_result"
    }
   ],
   "source": [
    "gradebook_data = {'student':['Amy', 'Amy', 'Bob', 'Bob', 'Chris', 'Chris', 'Dan', 'Dan', 'Ellie', 'Ellie'], 'assignment_name':['Assignment 1', 'Assignment 2','Assignment 1', 'Assignment 2','Assignment 1', 'Assignment 2','Assignment 1', 'Assignment 2','Assignment 1', 'Assignment 2'], 'grade':[75, 82, 99, 90, 72, 66, 88, 82, 91, 85]}\n",
    "gradebook = pd.DataFrame(gradebook_data)\n",
    "gradebook"
   ]
  },
  {
   "cell_type": "markdown",
   "metadata": {},
   "source": [
    "To calculate a student’s current grade in the class, we need to aggregate the grade data by student. To do this, we’ll calculate the average of each student’s grades.\n",
    "\n",
    "On the other hand, we may be interested in understanding the relative difficulty of each assignment. In this case, we would aggregate by assignment, taking the average of all student’s scores on each assignment.\n",
    "\n",
    "In Python, you can compute aggregates fairly quickly and easily using Numpy, a popular Python library for computing."
   ]
  },
  {
   "cell_type": "code",
   "execution_count": 11,
   "metadata": {},
   "outputs": [],
   "source": [
    "# Selecting all rows for Assignment 1\n",
    "assignment1 = gradebook[gradebook.assignment_name == 'Assignment 1']"
   ]
  },
  {
   "cell_type": "code",
   "execution_count": 13,
   "metadata": {},
   "outputs": [
    {
     "data": {
      "text/plain": [
       "88.0"
      ]
     },
     "execution_count": 13,
     "metadata": {},
     "output_type": "execute_result"
    }
   ],
   "source": [
    "# Use Numpy to calculate the median grade in assignment1\n",
    "asn1_median = np.median(assignment1.grade)\n",
    "asn1_median"
   ]
  },
  {
   "cell_type": "markdown",
   "metadata": {},
   "source": [
    "Seaborn is able to simultaneously calculate and plot aggregates:"
   ]
  },
  {
   "cell_type": "code",
   "execution_count": 14,
   "metadata": {},
   "outputs": [
    {
     "data": {
      "image/png": "[encoded data removed]",
      "text/plain": [
       "<Figure size 432x288 with 1 Axes>"
      ]
     },
     "metadata": {
      "needs_background": "light"
     },
     "output_type": "display_data"
    }
   ],
   "source": [
    "sns.barplot(data = gradebook, x = 'assignment_name', y = 'grade')\n",
    "plt.show()"
   ]
  },
  {
   "cell_type": "markdown",
   "metadata": {},
   "source": [
    "The order that the bars are presented in can also be changed with the order parameter:"
   ]
  },
  {
   "cell_type": "code",
   "execution_count": 15,
   "metadata": {},
   "outputs": [
    {
     "data": {
      "image/png": "[encoded data removed]",
      "text/plain": [
       "<Figure size 432x288 with 1 Axes>"
      ]
     },
     "metadata": {
      "needs_background": "light"
     },
     "output_type": "display_data"
    }
   ],
   "source": [
    "sns.barplot(data = gradebook, x = 'assignment_name', y = 'grade', order = ['Assignment 2', 'Assignment 1'])\n",
    "plt.show()"
   ]
  },
  {
   "cell_type": "markdown",
   "metadata": {},
   "source": [
    "## Modifying Error Bars\n",
    "\n",
    "By default, Seaborn will place error bars on each bar when you use the barplot() function.\n",
    "\n",
    "By default, Seaborn uses something called a bootstrapped confidence interval. Roughly speaking, this interval means that “based on this data, 95% of similar situations would have an outcome within this range”.\n",
    "\n",
    "If you’re calculating a mean and would prefer to use standard deviation for your error bars, you can pass in the keyword argument ci=\"sd\" to sns.barplot() which will represent one standard deviation."
   ]
  },
  {
   "cell_type": "code",
   "execution_count": 17,
   "metadata": {},
   "outputs": [
    {
     "data": {
      "image/png": "[encoded data removed]",
      "text/plain": [
       "<Figure size 432x288 with 1 Axes>"
      ]
     },
     "metadata": {
      "needs_background": "light"
     },
     "output_type": "display_data"
    }
   ],
   "source": [
    "sns.barplot(data=gradebook, x=\"student\", y=\"grade\", ci=\"sd\")\n",
    "plt.show()"
   ]
  },
  {
   "cell_type": "code",
   "execution_count": null,
   "metadata": {},
   "outputs": [],
   "source": []
  }
 ],
 "metadata": {
  "kernelspec": {
   "display_name": "Python 3",
   "language": "python",
   "name": "python3"
  },
  "language_info": {
   "codemirror_mode": {
    "name": "ipython",
    "version": 3
   },
   "file_extension": ".py",
   "mimetype": "text/x-python",
   "name": "python",
   "nbconvert_exporter": "python",
   "pygments_lexer": "ipython3",
   "version": "3.7.6"
  }
 },
 "nbformat": 4,
 "nbformat_minor": 4
}
